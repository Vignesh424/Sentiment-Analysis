{
  "nbformat": 4,
  "nbformat_minor": 0,
  "metadata": {
    "colab": {
      "name": "Basic Sentiment Analysis.ipynb",
      "provenance": [],
      "collapsed_sections": [],
      "authorship_tag": "ABX9TyOGlKCp7tr6OK8YNaWRLW1C",
      "include_colab_link": true
    },
    "kernelspec": {
      "name": "python3",
      "display_name": "Python 3"
    },
    "language_info": {
      "name": "python"
    }
  },
  "cells": [
    {
      "cell_type": "markdown",
      "metadata": {
        "id": "view-in-github",
        "colab_type": "text"
      },
      "source": [
        "<a href=\"https://colab.research.google.com/github/Vignesh424/Sentiment-Analysis/blob/main/Basic_Sentiment_Analysis.ipynb\" target=\"_parent\"><img src=\"https://colab.research.google.com/assets/colab-badge.svg\" alt=\"Open In Colab\"/></a>"
      ]
    },
    {
      "cell_type": "code",
      "execution_count": null,
      "metadata": {
        "colab": {
          "base_uri": "https://localhost:8080/"
        },
        "id": "MCmTuOdP0VU9",
        "outputId": "1e1f8fd4-8458-4a53-e887-7bed16ea77f4"
      },
      "outputs": [
        {
          "output_type": "stream",
          "name": "stdout",
          "text": [
            "Requirement already satisfied: textblob in /usr/local/lib/python3.7/dist-packages (0.15.3)\n",
            "Requirement already satisfied: nltk>=3.1 in /usr/local/lib/python3.7/dist-packages (from textblob) (3.2.5)\n",
            "Requirement already satisfied: six in /usr/local/lib/python3.7/dist-packages (from nltk>=3.1->textblob) (1.15.0)\n"
          ]
        }
      ],
      "source": [
        "!pip install textblob"
      ]
    },
    {
      "cell_type": "code",
      "source": [
        "#import packages\n",
        "from textblob import TextBlob"
      ],
      "metadata": {
        "id": "VxZd0beS005g"
      },
      "execution_count": null,
      "outputs": []
    },
    {
      "cell_type": "code",
      "source": [
        "#input the sentence\n",
        "x = input(\"Enter your sentence:\")"
      ],
      "metadata": {
        "colab": {
          "base_uri": "https://localhost:8080/"
        },
        "id": "oceVZs1X14Ps",
        "outputId": "01d227ec-fcbd-4421-ae76-901fb2c5b139"
      },
      "execution_count": null,
      "outputs": [
        {
          "name": "stdout",
          "output_type": "stream",
          "text": [
            "Enter your sentence:I am a man.\n"
          ]
        }
      ]
    },
    {
      "cell_type": "code",
      "source": [
        "#check the polarity\n",
        "edu = TextBlob(x)\n",
        "y = edu.sentiment.polarity"
      ],
      "metadata": {
        "id": "FE3idKuH1NYC"
      },
      "execution_count": null,
      "outputs": []
    },
    {
      "cell_type": "code",
      "source": [
        "if y > 0 and y <= 1 :\n",
        "  print(\"The Sentence entered is Positive\")\n",
        "elif y < 0:\n",
        "  print(\"The Sentence entered is Negative\")\n",
        "else:\n",
        "  print(\"The Sentence entered is Neutral\")"
      ],
      "metadata": {
        "colab": {
          "base_uri": "https://localhost:8080/"
        },
        "id": "InBJ31981bii",
        "outputId": "77a45264-bb29-48cf-9860-179507ba92e7"
      },
      "execution_count": null,
      "outputs": [
        {
          "output_type": "stream",
          "name": "stdout",
          "text": [
            "The Sentence entered is Neutral\n"
          ]
        }
      ]
    },
    {
      "cell_type": "code",
      "source": [
        ""
      ],
      "metadata": {
        "id": "3wGPQSQt1xKL"
      },
      "execution_count": null,
      "outputs": []
    }
  ]
}